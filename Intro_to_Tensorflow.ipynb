{
  "nbformat": 4,
  "nbformat_minor": 0,
  "metadata": {
    "colab": {
      "provenance": [],
      "authorship_tag": "ABX9TyPUd3PTxjj/G501nJtGru9q",
      "include_colab_link": true
    },
    "kernelspec": {
      "name": "python3",
      "display_name": "Python 3"
    },
    "language_info": {
      "name": "python"
    }
  },
  "cells": [
    {
      "cell_type": "markdown",
      "metadata": {
        "id": "view-in-github",
        "colab_type": "text"
      },
      "source": [
        "<a href=\"https://colab.research.google.com/github/pratikshaa12/DL-dt/blob/main/Intro_to_Tensorflow.ipynb\" target=\"_parent\"><img src=\"https://colab.research.google.com/assets/colab-badge.svg\" alt=\"Open In Colab\"/></a>"
      ]
    },
    {
      "cell_type": "code",
      "execution_count": 12,
      "metadata": {
        "colab": {
          "base_uri": "https://localhost:8080/"
        },
        "id": "N_5pI_0RrnBJ",
        "outputId": "12178728-2b78-43d5-ad12-441ce9dfde89"
      },
      "outputs": [
        {
          "output_type": "stream",
          "name": "stdout",
          "text": [
            "Requirement already satisfied: tensorflow==2.18 in /usr/local/lib/python3.11/dist-packages (2.18.0)\n",
            "Requirement already satisfied: absl-py>=1.0.0 in /usr/local/lib/python3.11/dist-packages (from tensorflow==2.18) (1.4.0)\n",
            "Requirement already satisfied: astunparse>=1.6.0 in /usr/local/lib/python3.11/dist-packages (from tensorflow==2.18) (1.6.3)\n",
            "Requirement already satisfied: flatbuffers>=24.3.25 in /usr/local/lib/python3.11/dist-packages (from tensorflow==2.18) (25.2.10)\n",
            "Requirement already satisfied: gast!=0.5.0,!=0.5.1,!=0.5.2,>=0.2.1 in /usr/local/lib/python3.11/dist-packages (from tensorflow==2.18) (0.6.0)\n",
            "Requirement already satisfied: google-pasta>=0.1.1 in /usr/local/lib/python3.11/dist-packages (from tensorflow==2.18) (0.2.0)\n",
            "Requirement already satisfied: libclang>=13.0.0 in /usr/local/lib/python3.11/dist-packages (from tensorflow==2.18) (18.1.1)\n",
            "Requirement already satisfied: opt-einsum>=2.3.2 in /usr/local/lib/python3.11/dist-packages (from tensorflow==2.18) (3.4.0)\n",
            "Requirement already satisfied: packaging in /usr/local/lib/python3.11/dist-packages (from tensorflow==2.18) (24.2)\n",
            "Requirement already satisfied: protobuf!=4.21.0,!=4.21.1,!=4.21.2,!=4.21.3,!=4.21.4,!=4.21.5,<6.0.0dev,>=3.20.3 in /usr/local/lib/python3.11/dist-packages (from tensorflow==2.18) (4.25.6)\n",
            "Requirement already satisfied: requests<3,>=2.21.0 in /usr/local/lib/python3.11/dist-packages (from tensorflow==2.18) (2.32.3)\n",
            "Requirement already satisfied: setuptools in /usr/local/lib/python3.11/dist-packages (from tensorflow==2.18) (75.1.0)\n",
            "Requirement already satisfied: six>=1.12.0 in /usr/local/lib/python3.11/dist-packages (from tensorflow==2.18) (1.17.0)\n",
            "Requirement already satisfied: termcolor>=1.1.0 in /usr/local/lib/python3.11/dist-packages (from tensorflow==2.18) (2.5.0)\n",
            "Requirement already satisfied: typing-extensions>=3.6.6 in /usr/local/lib/python3.11/dist-packages (from tensorflow==2.18) (4.12.2)\n",
            "Requirement already satisfied: wrapt>=1.11.0 in /usr/local/lib/python3.11/dist-packages (from tensorflow==2.18) (1.17.2)\n",
            "Requirement already satisfied: grpcio<2.0,>=1.24.3 in /usr/local/lib/python3.11/dist-packages (from tensorflow==2.18) (1.70.0)\n",
            "Requirement already satisfied: tensorboard<2.19,>=2.18 in /usr/local/lib/python3.11/dist-packages (from tensorflow==2.18) (2.18.0)\n",
            "Requirement already satisfied: keras>=3.5.0 in /usr/local/lib/python3.11/dist-packages (from tensorflow==2.18) (3.8.0)\n",
            "Requirement already satisfied: numpy<2.1.0,>=1.26.0 in /usr/local/lib/python3.11/dist-packages (from tensorflow==2.18) (1.26.4)\n",
            "Requirement already satisfied: h5py>=3.11.0 in /usr/local/lib/python3.11/dist-packages (from tensorflow==2.18) (3.12.1)\n",
            "Requirement already satisfied: ml-dtypes<0.5.0,>=0.4.0 in /usr/local/lib/python3.11/dist-packages (from tensorflow==2.18) (0.4.1)\n",
            "Requirement already satisfied: tensorflow-io-gcs-filesystem>=0.23.1 in /usr/local/lib/python3.11/dist-packages (from tensorflow==2.18) (0.37.1)\n",
            "Requirement already satisfied: wheel<1.0,>=0.23.0 in /usr/local/lib/python3.11/dist-packages (from astunparse>=1.6.0->tensorflow==2.18) (0.45.1)\n",
            "Requirement already satisfied: rich in /usr/local/lib/python3.11/dist-packages (from keras>=3.5.0->tensorflow==2.18) (13.9.4)\n",
            "Requirement already satisfied: namex in /usr/local/lib/python3.11/dist-packages (from keras>=3.5.0->tensorflow==2.18) (0.0.8)\n",
            "Requirement already satisfied: optree in /usr/local/lib/python3.11/dist-packages (from keras>=3.5.0->tensorflow==2.18) (0.14.0)\n",
            "Requirement already satisfied: charset-normalizer<4,>=2 in /usr/local/lib/python3.11/dist-packages (from requests<3,>=2.21.0->tensorflow==2.18) (3.4.1)\n",
            "Requirement already satisfied: idna<4,>=2.5 in /usr/local/lib/python3.11/dist-packages (from requests<3,>=2.21.0->tensorflow==2.18) (3.10)\n",
            "Requirement already satisfied: urllib3<3,>=1.21.1 in /usr/local/lib/python3.11/dist-packages (from requests<3,>=2.21.0->tensorflow==2.18) (2.3.0)\n",
            "Requirement already satisfied: certifi>=2017.4.17 in /usr/local/lib/python3.11/dist-packages (from requests<3,>=2.21.0->tensorflow==2.18) (2025.1.31)\n",
            "Requirement already satisfied: markdown>=2.6.8 in /usr/local/lib/python3.11/dist-packages (from tensorboard<2.19,>=2.18->tensorflow==2.18) (3.7)\n",
            "Requirement already satisfied: tensorboard-data-server<0.8.0,>=0.7.0 in /usr/local/lib/python3.11/dist-packages (from tensorboard<2.19,>=2.18->tensorflow==2.18) (0.7.2)\n",
            "Requirement already satisfied: werkzeug>=1.0.1 in /usr/local/lib/python3.11/dist-packages (from tensorboard<2.19,>=2.18->tensorflow==2.18) (3.1.3)\n",
            "Requirement already satisfied: MarkupSafe>=2.1.1 in /usr/local/lib/python3.11/dist-packages (from werkzeug>=1.0.1->tensorboard<2.19,>=2.18->tensorflow==2.18) (3.0.2)\n",
            "Requirement already satisfied: markdown-it-py>=2.2.0 in /usr/local/lib/python3.11/dist-packages (from rich->keras>=3.5.0->tensorflow==2.18) (3.0.0)\n",
            "Requirement already satisfied: pygments<3.0.0,>=2.13.0 in /usr/local/lib/python3.11/dist-packages (from rich->keras>=3.5.0->tensorflow==2.18) (2.18.0)\n",
            "Requirement already satisfied: mdurl~=0.1 in /usr/local/lib/python3.11/dist-packages (from markdown-it-py>=2.2.0->rich->keras>=3.5.0->tensorflow==2.18) (0.1.2)\n"
          ]
        }
      ],
      "source": [
        "!pip install tensorflow==2.18"
      ]
    },
    {
      "cell_type": "code",
      "source": [
        "import tensorflow as tf"
      ],
      "metadata": {
        "id": "SJF8jA8Srrdw"
      },
      "execution_count": 4,
      "outputs": []
    },
    {
      "cell_type": "code",
      "source": [
        "tf.__version__"
      ],
      "metadata": {
        "colab": {
          "base_uri": "https://localhost:8080/",
          "height": 35
        },
        "id": "-2eyUtqJrrgO",
        "outputId": "57c92a0e-d032-4ae7-bd41-012e47736bf1"
      },
      "execution_count": 5,
      "outputs": [
        {
          "output_type": "execute_result",
          "data": {
            "text/plain": [
              "'2.18.0'"
            ],
            "application/vnd.google.colaboratory.intrinsic+json": {
              "type": "string"
            }
          },
          "metadata": {},
          "execution_count": 5
        }
      ]
    },
    {
      "cell_type": "code",
      "source": [
        "hello_constant =tf.constant('Hello World!')\n",
        "hello_constant"
      ],
      "metadata": {
        "colab": {
          "base_uri": "https://localhost:8080/"
        },
        "id": "YDbbTLRmrri5",
        "outputId": "3de13c68-1fe1-4ba5-f55f-1185972140a3"
      },
      "execution_count": 6,
      "outputs": [
        {
          "output_type": "execute_result",
          "data": {
            "text/plain": [
              "<tf.Tensor: shape=(), dtype=string, numpy=b'Hello World!'>"
            ]
          },
          "metadata": {},
          "execution_count": 6
        }
      ]
    },
    {
      "cell_type": "code",
      "source": [
        "# create Tensorflow object called tensor\n",
        "hello_constant=tf.constant('Hello World!')\n",
        "with tf.Session() as sess:\n",
        "        # run the tf.constant operation in the session\n",
        "        output= sess.run(hello_constant)\n",
        "        print(output)\n",
        "\n",
        "\n"
      ],
      "metadata": {
        "id": "itjl70merrmX"
      },
      "execution_count": null,
      "outputs": []
    },
    {
      "cell_type": "code",
      "source": [
        "import tensorflow.compat.v1 as tf\n",
        "tf.disable_v2_behavior()\n",
        "\n",
        "# create TensorFlow object called tensor\n",
        "hello_constant = tf.constant('Hello World!')\n",
        "\n",
        "# Use Session as you would in TensorFlow 1.x\n",
        "with tf.Session() as sess:\n",
        "    output = sess.run(hello_constant)\n",
        "    print(output)\n"
      ],
      "metadata": {
        "colab": {
          "base_uri": "https://localhost:8080/"
        },
        "id": "wSGHHkTgvEfj",
        "outputId": "a283780b-2cde-4319-87b1-05770ffd00a4"
      },
      "execution_count": 15,
      "outputs": [
        {
          "output_type": "stream",
          "name": "stderr",
          "text": [
            "WARNING:tensorflow:From /usr/local/lib/python3.11/dist-packages/tensorflow/python/compat/v2_compat.py:98: disable_resource_variables (from tensorflow.python.ops.resource_variables_toggle) is deprecated and will be removed in a future version.\n",
            "Instructions for updating:\n",
            "non-resource variables are not supported in the long term\n"
          ]
        },
        {
          "output_type": "stream",
          "name": "stdout",
          "text": [
            "b'Hello World!'\n"
          ]
        }
      ]
    },
    {
      "cell_type": "markdown",
      "source": [
        "###### Lets analyze the Hello World script u ran"
      ],
      "metadata": {
        "id": "TNYVVPmhvLX8"
      }
    },
    {
      "cell_type": "markdown",
      "source": [
        "##### In TensorFlow data is'nt stored as integers, floats, or strings. these values are encapsulated in an object called tensor"
      ],
      "metadata": {
        "id": "g3eBpxDXxatR"
      }
    },
    {
      "cell_type": "code",
      "source": [
        "# A is a 0-dimensional int32 tensor\n",
        "A= tf.constant(1234)\n",
        "\n",
        "# B is a 1-dimentional int32 tensor\n",
        "B= tf.constant([123, 456, 789])\n",
        "\n",
        "# C is a 2-dimentional int32 tensor\n",
        "C = tf.constant([ [123, 456, 789], [222,333,444] ])"
      ],
      "metadata": {
        "id": "S3jrqIuwrrpv"
      },
      "execution_count": 16,
      "outputs": []
    },
    {
      "cell_type": "code",
      "source": [
        "with tf.Graph().as_default():\n",
        "  c1=tf.constant(4,dtype=tf.float64,name='C')\n",
        "  c2=tf.constant(4,dtype=tf.float32,name='C')\n",
        "  c3=tf.constant(4,dtype=tf.float32,name='C')\n",
        "print(c1.name)\n",
        "print(c2.name)\n",
        "print(c3.name)"
      ],
      "metadata": {
        "colab": {
          "base_uri": "https://localhost:8080/"
        },
        "id": "oZOYZBjcvJ3J",
        "outputId": "95e67785-5ced-4555-928b-ad4cffda856c"
      },
      "execution_count": 19,
      "outputs": [
        {
          "output_type": "stream",
          "name": "stdout",
          "text": [
            "C:0\n",
            "C_1:0\n",
            "C_2:0\n"
          ]
        }
      ]
    },
    {
      "cell_type": "code",
      "source": [
        "with tf.Graph().as_default():\n",
        "  c1=tf.constant(4,dtype=tf.float64,name='C')\n",
        "with tf.name_scope(\"prefix_name\"):\n",
        "  c2=tf.constant(4,dtype=tf.float32,name='C')\n",
        "  c3=tf.constant(4,dtype=tf.float64,name='C')\n",
        "print(c1.name)\n",
        "print(c2.name)\n",
        "print(c3.name)\n",
        "print(c1)"
      ],
      "metadata": {
        "colab": {
          "base_uri": "https://localhost:8080/"
        },
        "id": "c_4RVrAMvJ5v",
        "outputId": "0dda9c40-98aa-4b83-c9b4-6a4ba7429ac7"
      },
      "execution_count": 18,
      "outputs": [
        {
          "output_type": "stream",
          "name": "stdout",
          "text": [
            "C:0\n",
            "prefix_name/C:0\n",
            "prefix_name/C_1:0\n",
            "Tensor(\"C:0\", shape=(), dtype=float64)\n"
          ]
        }
      ]
    },
    {
      "cell_type": "code",
      "source": [
        "C = tf.constant([ [123,456,789], [222,333,444] ])\n",
        "sess =tf.Session()\n",
        "sess.run(C)"
      ],
      "metadata": {
        "colab": {
          "base_uri": "https://localhost:8080/"
        },
        "id": "idbMa-NUvJ8p",
        "outputId": "12133bba-0afc-410a-e9e3-1fd9652eac6e"
      },
      "execution_count": 20,
      "outputs": [
        {
          "output_type": "execute_result",
          "data": {
            "text/plain": [
              "array([[123, 456, 789],\n",
              "       [222, 333, 444]], dtype=int32)"
            ]
          },
          "metadata": {},
          "execution_count": 20
        }
      ]
    },
    {
      "cell_type": "markdown",
      "source": [
        "##### the tensor returned by tf.constant() is called a constant tensor, bcoz the value of the tensor never changes."
      ],
      "metadata": {
        "id": "LBYgHJPECv09"
      }
    },
    {
      "cell_type": "code",
      "source": [
        "with tf.Session() as sess:\n",
        "    output = sess.run(hello_constant)\n",
        "output\n"
      ],
      "metadata": {
        "colab": {
          "base_uri": "https://localhost:8080/"
        },
        "id": "hlUl9x2MvJ_g",
        "outputId": "c93b4422-4a1d-4b69-8587-c55e1b62aab6"
      },
      "execution_count": 21,
      "outputs": [
        {
          "output_type": "execute_result",
          "data": {
            "text/plain": [
              "b'Hello World!'"
            ]
          },
          "metadata": {},
          "execution_count": 21
        }
      ]
    },
    {
      "cell_type": "code",
      "source": [
        "init_val =tf.random_normal((1,5),0,1)\n",
        "var= tf.Variable(init_val, name='var')\n",
        "print(\"pre run:\\n{}\".format(var))\n",
        "init=tf.global_variables_initializer()\n",
        "with tf.Session() as sess:\n",
        "  sess.run(init)\n",
        "  post_var=sess.run(var)\n",
        "print(\"\\npost run: \\n{}\".format(post_var))\n"
      ],
      "metadata": {
        "colab": {
          "base_uri": "https://localhost:8080/"
        },
        "id": "0njP5NVaDRPr",
        "outputId": "ada36655-82f2-4b11-afc2-d09caa4479c9"
      },
      "execution_count": 23,
      "outputs": [
        {
          "output_type": "stream",
          "name": "stdout",
          "text": [
            "pre run:\n",
            "<tf.Variable 'var:0' shape=(1, 5) dtype=float32_ref>\n",
            "\n",
            "post run: \n",
            "[[-0.33146945 -0.10337161  1.323528    0.81166154  0.6253481 ]]\n"
          ]
        }
      ]
    },
    {
      "cell_type": "markdown",
      "source": [
        "tf.placeholedr()- returns a tensor that gets its value from data passed to the tf.session.run() function allowing u to set the input right before the session runs."
      ],
      "metadata": {
        "id": "qVc5jflRFanz"
      }
    },
    {
      "cell_type": "code",
      "source": [
        "x = tf.placeholder(tf.string)\n",
        "with tf.Session() as sess:\n",
        "    output=sess.run(x,feed_dict={x: 'test'})\n",
        "    print(output)"
      ],
      "metadata": {
        "colab": {
          "base_uri": "https://localhost:8080/"
        },
        "id": "mYr29II7EzSU",
        "outputId": "07234366-7aa7-44e9-c5bf-d882c2de1b22"
      },
      "execution_count": 25,
      "outputs": [
        {
          "output_type": "stream",
          "name": "stdout",
          "text": [
            "test\n"
          ]
        }
      ]
    },
    {
      "cell_type": "code",
      "source": [
        "x = tf.placeholder(tf.string)\n",
        "y = tf.placeholder(tf.int32)\n",
        "z = tf.placeholder(tf.float32)\n",
        "with tf.Session() as sess:\n",
        "    output_x=sess.run(x,feed_dict={x: 'Test String', y: 123, z:45.67})\n",
        "    output_y=sess.run(y,feed_dict={x: 'Test String', y: 123, z:45.67})\n",
        "    print(output_x)\n",
        "    print(output_y)"
      ],
      "metadata": {
        "colab": {
          "base_uri": "https://localhost:8080/"
        },
        "id": "4msS2SuVF3ta",
        "outputId": "cd33691c-cde9-4a13-9978-67acafc3ca89"
      },
      "execution_count": 26,
      "outputs": [
        {
          "output_type": "stream",
          "name": "stdout",
          "text": [
            "Test String\n",
            "123\n"
          ]
        }
      ]
    },
    {
      "cell_type": "code",
      "source": [
        "x = tf.placeholder(\"float\", None)\n",
        "y= x** 2\n",
        "with tf.Session() as session:\n",
        "    result=session.run(x,feed_dict={x: [1,2,3]})\n",
        "    print(result)"
      ],
      "metadata": {
        "id": "va1nThNsGzHv"
      },
      "execution_count": null,
      "outputs": []
    },
    {
      "cell_type": "markdown",
      "source": [
        "#### TensorFlow Math"
      ],
      "metadata": {
        "id": "5PSYokQWISSh"
      }
    },
    {
      "cell_type": "markdown",
      "source": [
        "##### Addition"
      ],
      "metadata": {
        "id": "peAQ04RtIXfb"
      }
    },
    {
      "cell_type": "code",
      "source": [
        "x = tf.add(5,2)  #7\n",
        "with tf.Session() as sess:\n",
        "  output=sess.run(x)\n",
        "  print(output)"
      ],
      "metadata": {
        "colab": {
          "base_uri": "https://localhost:8080/"
        },
        "id": "gmS-vZksHYkd",
        "outputId": "7d292e8e-727e-4c06-ffce-50d1c9e41283"
      },
      "execution_count": 29,
      "outputs": [
        {
          "output_type": "stream",
          "name": "stdout",
          "text": [
            "7\n"
          ]
        }
      ]
    },
    {
      "cell_type": "markdown",
      "source": [
        "#### Subtraction and Multiplication"
      ],
      "metadata": {
        "id": "t5Ncn59zJEXp"
      }
    },
    {
      "cell_type": "code",
      "source": [
        "x = tf.subtract(18,4)  #6\n",
        "\n",
        "y= tf.multiply(2,5)  #10\n"
      ],
      "metadata": {
        "id": "nhYyFpWmInB1"
      },
      "execution_count": 33,
      "outputs": []
    },
    {
      "cell_type": "code",
      "source": [
        "tf.subtract(tf.constant(2.0),tf.constant(1))"
      ],
      "metadata": {
        "colab": {
          "base_uri": "https://localhost:8080/",
          "height": 304
        },
        "id": "5fxEmRSnJCMw",
        "outputId": "bd5857fa-bf0a-4866-a12e-e0cf1ce6dcfe"
      },
      "execution_count": 34,
      "outputs": [
        {
          "output_type": "error",
          "ename": "TypeError",
          "evalue": "Input 'y' of 'Sub' Op has type int32 that does not match type float32 of argument 'x'.",
          "traceback": [
            "\u001b[0;31m---------------------------------------------------------------------------\u001b[0m",
            "\u001b[0;31mTypeError\u001b[0m                                 Traceback (most recent call last)",
            "\u001b[0;32m<ipython-input-34-4a6477b7418e>\u001b[0m in \u001b[0;36m<cell line: 0>\u001b[0;34m()\u001b[0m\n\u001b[0;32m----> 1\u001b[0;31m \u001b[0mtf\u001b[0m\u001b[0;34m.\u001b[0m\u001b[0msubtract\u001b[0m\u001b[0;34m(\u001b[0m\u001b[0mtf\u001b[0m\u001b[0;34m.\u001b[0m\u001b[0mconstant\u001b[0m\u001b[0;34m(\u001b[0m\u001b[0;36m2.0\u001b[0m\u001b[0;34m)\u001b[0m\u001b[0;34m,\u001b[0m\u001b[0mtf\u001b[0m\u001b[0;34m.\u001b[0m\u001b[0mconstant\u001b[0m\u001b[0;34m(\u001b[0m\u001b[0;36m1\u001b[0m\u001b[0;34m)\u001b[0m\u001b[0;34m)\u001b[0m\u001b[0;34m\u001b[0m\u001b[0;34m\u001b[0m\u001b[0m\n\u001b[0m",
            "\u001b[0;32m/usr/local/lib/python3.11/dist-packages/tensorflow/python/util/traceback_utils.py\u001b[0m in \u001b[0;36merror_handler\u001b[0;34m(*args, **kwargs)\u001b[0m\n\u001b[1;32m    151\u001b[0m     \u001b[0;32mexcept\u001b[0m \u001b[0mException\u001b[0m \u001b[0;32mas\u001b[0m \u001b[0me\u001b[0m\u001b[0;34m:\u001b[0m\u001b[0;34m\u001b[0m\u001b[0;34m\u001b[0m\u001b[0m\n\u001b[1;32m    152\u001b[0m       \u001b[0mfiltered_tb\u001b[0m \u001b[0;34m=\u001b[0m \u001b[0m_process_traceback_frames\u001b[0m\u001b[0;34m(\u001b[0m\u001b[0me\u001b[0m\u001b[0;34m.\u001b[0m\u001b[0m__traceback__\u001b[0m\u001b[0;34m)\u001b[0m\u001b[0;34m\u001b[0m\u001b[0;34m\u001b[0m\u001b[0m\n\u001b[0;32m--> 153\u001b[0;31m       \u001b[0;32mraise\u001b[0m \u001b[0me\u001b[0m\u001b[0;34m.\u001b[0m\u001b[0mwith_traceback\u001b[0m\u001b[0;34m(\u001b[0m\u001b[0mfiltered_tb\u001b[0m\u001b[0;34m)\u001b[0m \u001b[0;32mfrom\u001b[0m \u001b[0;32mNone\u001b[0m\u001b[0;34m\u001b[0m\u001b[0;34m\u001b[0m\u001b[0m\n\u001b[0m\u001b[1;32m    154\u001b[0m     \u001b[0;32mfinally\u001b[0m\u001b[0;34m:\u001b[0m\u001b[0;34m\u001b[0m\u001b[0;34m\u001b[0m\u001b[0m\n\u001b[1;32m    155\u001b[0m       \u001b[0;32mdel\u001b[0m \u001b[0mfiltered_tb\u001b[0m\u001b[0;34m\u001b[0m\u001b[0;34m\u001b[0m\u001b[0m\n",
            "\u001b[0;32m/usr/local/lib/python3.11/dist-packages/tensorflow/python/framework/op_def_library.py\u001b[0m in \u001b[0;36m_ExtractInputsAndAttrs\u001b[0;34m(op_type_name, op_def, allowed_list_attr_map, keywords, default_type_attr_map, attrs, inputs, input_types)\u001b[0m\n\u001b[1;32m    587\u001b[0m                 \u001b[0minferred_from\u001b[0m\u001b[0;34m[\u001b[0m\u001b[0mk\u001b[0m\u001b[0;34m]\u001b[0m \u001b[0;34m=\u001b[0m \u001b[0;34m\"Default in OpDef\"\u001b[0m\u001b[0;34m\u001b[0m\u001b[0;34m\u001b[0m\u001b[0m\n\u001b[1;32m    588\u001b[0m \u001b[0;34m\u001b[0m\u001b[0m\n\u001b[0;32m--> 589\u001b[0;31m           raise TypeError(\n\u001b[0m\u001b[1;32m    590\u001b[0m               \u001b[0;34mf\"{prefix} type \"\u001b[0m\u001b[0;34m\u001b[0m\u001b[0;34m\u001b[0m\u001b[0m\n\u001b[1;32m    591\u001b[0m               \u001b[0;34mf\"{dtypes.as_dtype(attrs[input_arg.type_attr]).name} of \"\u001b[0m\u001b[0;34m\u001b[0m\u001b[0;34m\u001b[0m\u001b[0m\n",
            "\u001b[0;31mTypeError\u001b[0m: Input 'y' of 'Sub' Op has type int32 that does not match type float32 of argument 'x'."
          ]
        }
      ]
    },
    {
      "cell_type": "code",
      "source": [],
      "metadata": {
        "id": "4sfO1XFBJRmo"
      },
      "execution_count": null,
      "outputs": []
    },
    {
      "cell_type": "code",
      "source": [
        "c= tf.subtract(tf.cast(tf.constant(2.0), tf.int32), tf.constant(1))\n",
        "with tf.Session() as sess:\n",
        "    output=sess.run(c)\n",
        "    print(output)"
      ],
      "metadata": {
        "colab": {
          "base_uri": "https://localhost:8080/"
        },
        "id": "0RTC3PPKKKA7",
        "outputId": "fa5bcd7a-be2a-4fbc-bf7e-a56303310ead"
      },
      "execution_count": 35,
      "outputs": [
        {
          "output_type": "stream",
          "name": "stdout",
          "text": [
            "1\n"
          ]
        }
      ]
    },
    {
      "cell_type": "code",
      "source": [
        "x=  tf.constant(10)\n",
        "y=  tf.constant(2)\n",
        "z=  tf.subtract(tf.divide(x,y), 1)\n",
        "with tf.Session() as sess:\n",
        "    output=sess.run(z)\n",
        "    print(output)"
      ],
      "metadata": {
        "colab": {
          "base_uri": "https://localhost:8080/"
        },
        "id": "0Nz1VU5SKlld",
        "outputId": "500342f0-5aa1-4ae6-cfc8-e96c3d38c30e"
      },
      "execution_count": 37,
      "outputs": [
        {
          "output_type": "stream",
          "name": "stdout",
          "text": [
            "4.0\n"
          ]
        }
      ]
    },
    {
      "cell_type": "markdown",
      "source": [
        "#### TensorFlow Linear Functions"
      ],
      "metadata": {
        "id": "sOvEatTeU9ae"
      }
    },
    {
      "cell_type": "markdown",
      "source": [
        "##### tf.global_variables_initializer() - call returns an operation that will initialize all TensorFlow variables from the graph.\n"
      ],
      "metadata": {
        "id": "v-PKYWLCUkHF"
      }
    },
    {
      "cell_type": "markdown",
      "source": [
        "##### tf.truncated_normal()- generate random numbers from a normal distribution whose magnitude is no more than 2 standard deviations from the mean."
      ],
      "metadata": {
        "id": "lCk_xmBfUT8r"
      }
    },
    {
      "cell_type": "code",
      "source": [
        "n_features=120\n",
        "n_labels=5\n",
        "weights= tf.Variable(tf.truncated_normal((n_features, n_labels)))\n",
        "\n",
        "weights"
      ],
      "metadata": {
        "colab": {
          "base_uri": "https://localhost:8080/"
        },
        "id": "N3NYA5AALjDA",
        "outputId": "0606365d-0c4d-4871-9c1d-c55102de90b8"
      },
      "execution_count": 38,
      "outputs": [
        {
          "output_type": "execute_result",
          "data": {
            "text/plain": [
              "<tf.Variable 'Variable:0' shape=(120, 5) dtype=float32_ref>"
            ]
          },
          "metadata": {},
          "execution_count": 38
        }
      ]
    },
    {
      "cell_type": "code",
      "source": [
        "n_labels=5\n",
        "bias=tf.Variable(tf.zeros(n_labels))"
      ],
      "metadata": {
        "id": "YVJWzniZMZQ3"
      },
      "execution_count": 39,
      "outputs": []
    },
    {
      "cell_type": "markdown",
      "source": [
        "######Feed Dictionary- is used to temporarily replace the output of an operation wiyh a tensor value."
      ],
      "metadata": {
        "id": "pnnAxE4EVarM"
      }
    },
    {
      "cell_type": "code",
      "source": [
        "import tensorflow as tf\n",
        "import tensorflow.compat.v1 as tf\n",
        "tf.disable_v2_behavior()\n",
        "# create Operations, tensors, etc (using the default graph)\n",
        "a= tf.add(2,5)\n",
        "b= tf.multiply(a,3)\n",
        "# start up a 'Session' using the default graph\n",
        "sess= tf.Session()\n",
        "l5=10\n",
        "# define a dictionary that says to replace the value of 'a' with l5\n",
        "replace_dict= {a: l5}\n",
        "# run the session passing in 'replace_dict' as the value to 'feed_dict'\n",
        "output= sess.run(b, feed_dict=replace_dict)\n",
        "print(output)\n"
      ],
      "metadata": {
        "colab": {
          "base_uri": "https://localhost:8080/"
        },
        "id": "gny-gkrCMjgx",
        "outputId": "f53bf973-3b13-44b8-bed5-31cc6b7b3533"
      },
      "execution_count": 45,
      "outputs": [
        {
          "output_type": "stream",
          "name": "stdout",
          "text": [
            "30\n"
          ]
        }
      ]
    },
    {
      "cell_type": "markdown",
      "source": [
        "######tf.zeros() - function returns a tensor with all zeros"
      ],
      "metadata": {
        "id": "c4-weT9DV1v4"
      }
    },
    {
      "cell_type": "markdown",
      "source": [
        "#### TensorFlow Softmax\n",
        "softmax fun squashes it's inputs typically called  logits or logit scores to be between 0 and 1 and also normalizes the outputs such that they all sum to 1. yhis means the output of the softmax function is equivalent to a categorical probability distribution. it's the perfect fun to use as the output activation for a network predicting multiple classes."
      ],
      "metadata": {
        "id": "Ruktvk8sWGVH"
      }
    },
    {
      "cell_type": "code",
      "source": [
        "x= tf.nn.softmax([2.0, 1.0, 0.2])\n"
      ],
      "metadata": {
        "id": "AP9TRAvVN5hZ"
      },
      "execution_count": 46,
      "outputs": []
    },
    {
      "cell_type": "code",
      "source": [
        "def run_2():\n",
        "    output=None\n",
        "    logit_data=[19,354,354,45,354,54]\n",
        "    logits= tf.placeholder(tf.float32)\n",
        "    # calculate the softmax of the logits\n",
        "    softmax=tf.nn.softmax(logits)     #implements the softmax fun for u .it takes in logits and returns softmax activations.\n",
        "    with tf.Session() as sess:\n",
        "         # Feed in the logit data\n",
        "        output=sess.run(softmax, feed_dict={logits: logit_data})\n",
        "    return output\n",
        "print(run_2())"
      ],
      "metadata": {
        "colab": {
          "base_uri": "https://localhost:8080/"
        },
        "id": "dEwQVoPlPRd8",
        "outputId": "4597cf3a-0657-48ce-b8b5-fdf642c747af"
      },
      "execution_count": 48,
      "outputs": [
        {
          "output_type": "stream",
          "name": "stdout",
          "text": [
            "[0.         0.33333334 0.33333334 0.         0.33333334 0.        ]\n"
          ]
        }
      ]
    },
    {
      "cell_type": "markdown",
      "source": [
        "#### TensorFlow Cross Entropy"
      ],
      "metadata": {
        "id": "Dm3TBaWsXifo"
      }
    },
    {
      "cell_type": "code",
      "source": [
        "# to crate a cross entropy fun in tensorflow you'll need to use two new functions\n",
        "\n",
        "tf.reduce_sum()   # takes an array of numbers and sums them together.\n",
        "tf.log()"
      ],
      "metadata": {
        "id": "KIJSYJiNQTeA"
      },
      "execution_count": null,
      "outputs": []
    },
    {
      "cell_type": "code",
      "source": [
        " x= tf.reduce_sum([1,2,3,4,5])  # 15"
      ],
      "metadata": {
        "id": "MsmeAtTSX3a-"
      },
      "execution_count": 50,
      "outputs": []
    },
    {
      "cell_type": "code",
      "source": [
        "# Natural log\n",
        "l = tf.log(100.0)  # 4.60517  # takes natural log of number."
      ],
      "metadata": {
        "id": "fX49p0hZYK_y"
      },
      "execution_count": 51,
      "outputs": []
    },
    {
      "cell_type": "code",
      "source": [
        "import tensorflow as tf\n",
        "\n",
        "softmax_data = [0.7, 0.2, 0.1]\n",
        "one_hot_data = [1.0, 0.0, 0.0]\n",
        "\n",
        "# Instead of tf.placeholder, use tf.Variable or tf.Tensor\n",
        "one_hot = tf.Variable(one_hot_data, dtype=tf.float32)\n",
        "softmax = tf.Variable(softmax_data, dtype=tf.float32)\n"
      ],
      "metadata": {
        "id": "qSVRdVWDcNmP"
      },
      "execution_count": 58,
      "outputs": []
    },
    {
      "cell_type": "code",
      "source": [
        "# print the entropy using softmax_data and one_hot_encod_label.\n",
        "\n",
        "import tensorflow as tf\n",
        "softmax_data=[0.7,0.2,0.1]\n",
        "one_hot_data=[1.0, 0.0, 0.0]\n",
        "\n",
        "one_hot = tf.placeholder(tf.float32)\n",
        "softmax = tf.placeholder(tf.float32)\n",
        "\n",
        "\n",
        "\n",
        "# print cross entropy from session\n",
        "cross_entropy= -tf.reduce_sum(tf.multiply(one_hot, tf.math.log(softmax)))\n",
        "with tf.Session() as session:\n",
        "\n",
        "    output=session.run(cross_entropy, feed_dict={one_hot: one_hot_data, softmax: softmax_data})\n",
        "    print(output)\n"
      ],
      "metadata": {
        "id": "bw61hjauYgpN"
      },
      "execution_count": null,
      "outputs": []
    },
    {
      "cell_type": "code",
      "source": [
        "@tf.function\n",
        "def compute_cross_entropy(one_hot_data, softmax_data):\n",
        "    return tf.reduce_sum(tf.multiply(one_hot_data, tf.math.log(softmax_data)))\n",
        "\n",
        "# Call the function with data\n",
        "output = compute_cross_entropy(one_hot_data, softmax_data)\n",
        "\n",
        "print(output)\n"
      ],
      "metadata": {
        "colab": {
          "base_uri": "https://localhost:8080/"
        },
        "id": "s7O7rBAOdjVK",
        "outputId": "db9a9fe1-3970-4eeb-833e-5e1fab6eaafb"
      },
      "execution_count": 63,
      "outputs": [
        {
          "output_type": "stream",
          "name": "stdout",
          "text": [
            "Tensor(\"PartitionedCall:0\", shape=(), dtype=float32)\n"
          ]
        }
      ]
    },
    {
      "cell_type": "code",
      "source": [],
      "metadata": {
        "id": "vc7KxlfFaWAR"
      },
      "execution_count": null,
      "outputs": []
    }
  ]
}