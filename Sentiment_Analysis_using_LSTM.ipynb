{
  "cells": [
    {
      "cell_type": "markdown",
      "metadata": {
        "id": "view-in-github",
        "colab_type": "text"
      },
      "source": [
        "<a href=\"https://colab.research.google.com/github/pratikshaa12/DL-dt/blob/main/Sentiment_Analysis_using_LSTM.ipynb\" target=\"_parent\"><img src=\"https://colab.research.google.com/assets/colab-badge.svg\" alt=\"Open In Colab\"/></a>"
      ]
    },
    {
      "cell_type": "code",
      "execution_count": null,
      "id": "2f7129e9",
      "metadata": {
        "id": "2f7129e9"
      },
      "outputs": [],
      "source": [
        "# Importing required libraries\n",
        "import nltk\n",
        "import pandas as pd\n",
        "from nltk.corpus import stopwords\n",
        "from textblob import Word\n",
        "from sklearn.preprocessing import LabelEncoder\n",
        "from collections import Counter\n",
        "import wordcloud\n",
        "from sklearn.metrics import classification_report,confusion_matrix,accuracy_score\n",
        "from keras.models import Sequential\n",
        "from keras.preprocessing.text import Tokenizer\n",
        "from keras.preprocessing.sequence import pad_sequences\n",
        "from keras.layers import Dense, Embedding, LSTM, SpatialDropout1D\n",
        "from sklearn.model_selection import train_test_split\n",
        "import matplotlib.pyplot as plt\n",
        "import numpy as np"
      ]
    },
    {
      "cell_type": "code",
      "execution_count": null,
      "id": "5ebac57b",
      "metadata": {
        "id": "5ebac57b"
      },
      "outputs": [],
      "source": [
        "#Loading the dataset\n",
        "data = pd.read_csv('amazon_alexa.tsv',sep='\\t')\n",
        "# Creating a new column sentiment based on overall ratings\n",
        "def sentiments(df):\n",
        "  if df['rating'] > 3.0:\n",
        "    return 'Positive'\n",
        "  elif df['rating'] <= 3.0:\n",
        "    return 'Negative'\n",
        "data['sentiment'] = data.apply(sentiments, axis=1)"
      ]
    },
    {
      "cell_type": "code",
      "execution_count": null,
      "id": "ee23a261",
      "metadata": {
        "id": "ee23a261",
        "outputId": "9491dc72-a302-4d87-c058-60235cbd7573"
      },
      "outputs": [
        {
          "data": {
            "text/html": [
              "<div>\n",
              "<style scoped>\n",
              "    .dataframe tbody tr th:only-of-type {\n",
              "        vertical-align: middle;\n",
              "    }\n",
              "\n",
              "    .dataframe tbody tr th {\n",
              "        vertical-align: top;\n",
              "    }\n",
              "\n",
              "    .dataframe thead th {\n",
              "        text-align: right;\n",
              "    }\n",
              "</style>\n",
              "<table border=\"1\" class=\"dataframe\">\n",
              "  <thead>\n",
              "    <tr style=\"text-align: right;\">\n",
              "      <th></th>\n",
              "      <th>rating</th>\n",
              "      <th>date</th>\n",
              "      <th>variation</th>\n",
              "      <th>verified_reviews</th>\n",
              "      <th>feedback</th>\n",
              "      <th>sentiment</th>\n",
              "    </tr>\n",
              "  </thead>\n",
              "  <tbody>\n",
              "    <tr>\n",
              "      <th>0</th>\n",
              "      <td>5</td>\n",
              "      <td>31-Jul-18</td>\n",
              "      <td>Charcoal Fabric</td>\n",
              "      <td>Love my Echo!</td>\n",
              "      <td>1</td>\n",
              "      <td>Positive</td>\n",
              "    </tr>\n",
              "    <tr>\n",
              "      <th>1</th>\n",
              "      <td>5</td>\n",
              "      <td>31-Jul-18</td>\n",
              "      <td>Charcoal Fabric</td>\n",
              "      <td>Loved it!</td>\n",
              "      <td>1</td>\n",
              "      <td>Positive</td>\n",
              "    </tr>\n",
              "    <tr>\n",
              "      <th>2</th>\n",
              "      <td>4</td>\n",
              "      <td>31-Jul-18</td>\n",
              "      <td>Walnut Finish</td>\n",
              "      <td>Sometimes while playing a game, you can answer...</td>\n",
              "      <td>1</td>\n",
              "      <td>Positive</td>\n",
              "    </tr>\n",
              "    <tr>\n",
              "      <th>3</th>\n",
              "      <td>5</td>\n",
              "      <td>31-Jul-18</td>\n",
              "      <td>Charcoal Fabric</td>\n",
              "      <td>I have had a lot of fun with this thing. My 4 ...</td>\n",
              "      <td>1</td>\n",
              "      <td>Positive</td>\n",
              "    </tr>\n",
              "    <tr>\n",
              "      <th>4</th>\n",
              "      <td>5</td>\n",
              "      <td>31-Jul-18</td>\n",
              "      <td>Charcoal Fabric</td>\n",
              "      <td>Music</td>\n",
              "      <td>1</td>\n",
              "      <td>Positive</td>\n",
              "    </tr>\n",
              "  </tbody>\n",
              "</table>\n",
              "</div>"
            ],
            "text/plain": [
              "   rating       date         variation  \\\n",
              "0       5  31-Jul-18  Charcoal Fabric    \n",
              "1       5  31-Jul-18  Charcoal Fabric    \n",
              "2       4  31-Jul-18    Walnut Finish    \n",
              "3       5  31-Jul-18  Charcoal Fabric    \n",
              "4       5  31-Jul-18  Charcoal Fabric    \n",
              "\n",
              "                                    verified_reviews  feedback sentiment  \n",
              "0                                      Love my Echo!         1  Positive  \n",
              "1                                          Loved it!         1  Positive  \n",
              "2  Sometimes while playing a game, you can answer...         1  Positive  \n",
              "3  I have had a lot of fun with this thing. My 4 ...         1  Positive  \n",
              "4                                              Music         1  Positive  "
            ]
          },
          "execution_count": 5,
          "metadata": {},
          "output_type": "execute_result"
        }
      ],
      "source": [
        "data.head()"
      ]
    },
    {
      "cell_type": "code",
      "execution_count": null,
      "id": "3a30bf72",
      "metadata": {
        "id": "3a30bf72",
        "outputId": "fa26142d-0fe1-40e8-aa91-da19ac7543fa"
      },
      "outputs": [
        {
          "data": {
            "text/plain": [
              "verified_reviews    0\n",
              "sentiment           0\n",
              "dtype: int64"
            ]
          },
          "execution_count": 6,
          "metadata": {},
          "output_type": "execute_result"
        }
      ],
      "source": [
        "#Check if there are any null values\n",
        "data_v1 = data[['verified_reviews','sentiment']]\n",
        "data_v1.isnull().sum()"
      ]
    },
    {
      "cell_type": "code",
      "execution_count": null,
      "id": "f7a2a352",
      "metadata": {
        "id": "f7a2a352",
        "outputId": "50ad4412-80f9-4e59-f4cd-d0e74421ff21"
      },
      "outputs": [
        {
          "name": "stderr",
          "output_type": "stream",
          "text": [
            "<ipython-input-7-7cbed1ab81c5>:4: SettingWithCopyWarning: \n",
            "A value is trying to be set on a copy of a slice from a DataFrame.\n",
            "Try using .loc[row_indexer,col_indexer] = value instead\n",
            "\n",
            "See the caveats in the documentation: https://pandas.pydata.org/pandas-docs/stable/user_guide/indexing.html#returning-a-view-versus-a-copy\n",
            "  df['verified_reviews'] = df['verified_reviews'].apply(lambda x:\n",
            "<ipython-input-7-7cbed1ab81c5>:11: SettingWithCopyWarning: \n",
            "A value is trying to be set on a copy of a slice from a DataFrame.\n",
            "Try using .loc[row_indexer,col_indexer] = value instead\n",
            "\n",
            "See the caveats in the documentation: https://pandas.pydata.org/pandas-docs/stable/user_guide/indexing.html#returning-a-view-versus-a-copy\n",
            "  df['verified_reviews'] = df['verified_reviews'].str.replace('d', ''\n",
            "<ipython-input-7-7cbed1ab81c5>:17: SettingWithCopyWarning: \n",
            "A value is trying to be set on a copy of a slice from a DataFrame.\n",
            "Try using .loc[row_indexer,col_indexer] = value instead\n",
            "\n",
            "See the caveats in the documentation: https://pandas.pydata.org/pandas-docs/stable/user_guide/indexing.html#returning-a-view-versus-a-copy\n",
            "  df['verified_reviews'] = df['verified_reviews'].apply(lambda x:\n",
            "<ipython-input-7-7cbed1ab81c5>:23: SettingWithCopyWarning: \n",
            "A value is trying to be set on a copy of a slice from a DataFrame.\n",
            "Try using .loc[row_indexer,col_indexer] = value instead\n",
            "\n",
            "See the caveats in the documentation: https://pandas.pydata.org/pandas-docs/stable/user_guide/indexing.html#returning-a-view-versus-a-copy\n",
            "  df['verified_reviews'] = df['verified_reviews'].apply(lambda x:\n"
          ]
        }
      ],
      "source": [
        "def cleaning(df, stop_words):\n",
        "\n",
        "    #converting to lowercase\n",
        "    df['verified_reviews'] = df['verified_reviews'].apply(lambda x:\n",
        "\n",
        "            ' '.join(x.lower() for x in x.split()))\n",
        "\n",
        "\n",
        "    # Replacing the digits/numbers\n",
        "\n",
        "    df['verified_reviews'] = df['verified_reviews'].str.replace('d', ''\n",
        "\n",
        "            )\n",
        "\n",
        "    # Removing stop words\n",
        "\n",
        "    df['verified_reviews'] = df['verified_reviews'].apply(lambda x:\n",
        "\n",
        "            ' '.join(x for x in x.split() if x not in stop_words))\n",
        "\n",
        "    # Lemmatization\n",
        "\n",
        "    df['verified_reviews'] = df['verified_reviews'].apply(lambda x:\n",
        "\n",
        "            ' '.join([Word(x).lemmatize() for x in x.split()]))\n",
        "\n",
        "    return df\n",
        "\n",
        "stop_words = stopwords.words('english')\n",
        "\n",
        "data_v1 = cleaning(data_v1, stop_words)"
      ]
    },
    {
      "cell_type": "code",
      "execution_count": null,
      "id": "488b5cf5",
      "metadata": {
        "id": "488b5cf5",
        "outputId": "d9b22f15-a4fd-4bd6-95a1-bf13530bb907"
      },
      "outputs": [
        {
          "data": {
            "text/html": [
              "<div>\n",
              "<style scoped>\n",
              "    .dataframe tbody tr th:only-of-type {\n",
              "        vertical-align: middle;\n",
              "    }\n",
              "\n",
              "    .dataframe tbody tr th {\n",
              "        vertical-align: top;\n",
              "    }\n",
              "\n",
              "    .dataframe thead th {\n",
              "        text-align: right;\n",
              "    }\n",
              "</style>\n",
              "<table border=\"1\" class=\"dataframe\">\n",
              "  <thead>\n",
              "    <tr style=\"text-align: right;\">\n",
              "      <th></th>\n",
              "      <th>verified_reviews</th>\n",
              "      <th>sentiment</th>\n",
              "    </tr>\n",
              "  </thead>\n",
              "  <tbody>\n",
              "    <tr>\n",
              "      <th>0</th>\n",
              "      <td>love echo!</td>\n",
              "      <td>Positive</td>\n",
              "    </tr>\n",
              "    <tr>\n",
              "      <th>1</th>\n",
              "      <td>love it!</td>\n",
              "      <td>Positive</td>\n",
              "    </tr>\n",
              "    <tr>\n",
              "      <th>2</th>\n",
              "      <td>sometimes playing game, answer question correc...</td>\n",
              "      <td>Positive</td>\n",
              "    </tr>\n",
              "    <tr>\n",
              "      <th>3</th>\n",
              "      <td>ha lot fun thing. 4 yr ol learns inosaurs, con...</td>\n",
              "      <td>Positive</td>\n",
              "    </tr>\n",
              "    <tr>\n",
              "      <th>4</th>\n",
              "      <td>music</td>\n",
              "      <td>Positive</td>\n",
              "    </tr>\n",
              "  </tbody>\n",
              "</table>\n",
              "</div>"
            ],
            "text/plain": [
              "                                    verified_reviews sentiment\n",
              "0                                         love echo!  Positive\n",
              "1                                           love it!  Positive\n",
              "2  sometimes playing game, answer question correc...  Positive\n",
              "3  ha lot fun thing. 4 yr ol learns inosaurs, con...  Positive\n",
              "4                                              music  Positive"
            ]
          },
          "execution_count": 8,
          "metadata": {},
          "output_type": "execute_result"
        }
      ],
      "source": [
        "data_v1.head()"
      ]
    },
    {
      "cell_type": "code",
      "execution_count": null,
      "id": "7f6bba46",
      "metadata": {
        "id": "7f6bba46",
        "outputId": "fb08f7a1-e608-486d-f9e6-5fdb596cf722"
      },
      "outputs": [
        {
          "data": {
            "image/png": "[encoded data removed]",
            "text/plain": [
              "<Figure size 432x288 with 1 Axes>"
            ]
          },
          "metadata": {
            "needs_background": "light"
          },
          "output_type": "display_data"
        }
      ],
      "source": [
        "common_words=''\n",
        "for i in data_v1.verified_reviews:\n",
        "    i = str(i)\n",
        "    tokens = i.split()\n",
        "    common_words += \" \".join(tokens)+\" \"\n",
        "wordcloud = wordcloud.WordCloud().generate(common_words)\n",
        "plt.imshow(wordcloud, interpolation='bilinear')\n",
        "plt.axis(\"off\")\n",
        "plt.show()"
      ]
    },
    {
      "cell_type": "code",
      "execution_count": null,
      "id": "81639682",
      "metadata": {
        "id": "81639682",
        "outputId": "0c9200d5-a228-464f-de9c-08b3cc703cc8"
      },
      "outputs": [
        {
          "name": "stderr",
          "output_type": "stream",
          "text": [
            "<ipython-input-10-3c303bced4a2>:3: SettingWithCopyWarning: \n",
            "A value is trying to be set on a copy of a slice from a DataFrame.\n",
            "Try using .loc[row_indexer,col_indexer] = value instead\n",
            "\n",
            "See the caveats in the documentation: https://pandas.pydata.org/pandas-docs/stable/user_guide/indexing.html#returning-a-view-versus-a-copy\n",
            "  data_v1['sentiment'] = lb.fit_transform(data_v1['sentiment'])\n"
          ]
        }
      ],
      "source": [
        "# Encoded the target column\n",
        "lb=LabelEncoder()\n",
        "data_v1['sentiment'] = lb.fit_transform(data_v1['sentiment'])"
      ]
    },
    {
      "cell_type": "code",
      "execution_count": null,
      "id": "afe3cf02",
      "metadata": {
        "id": "afe3cf02",
        "outputId": "9ea98492-7b1b-4257-cad9-6058ff205feb"
      },
      "outputs": [
        {
          "data": {
            "text/html": [
              "<div>\n",
              "<style scoped>\n",
              "    .dataframe tbody tr th:only-of-type {\n",
              "        vertical-align: middle;\n",
              "    }\n",
              "\n",
              "    .dataframe tbody tr th {\n",
              "        vertical-align: top;\n",
              "    }\n",
              "\n",
              "    .dataframe thead th {\n",
              "        text-align: right;\n",
              "    }\n",
              "</style>\n",
              "<table border=\"1\" class=\"dataframe\">\n",
              "  <thead>\n",
              "    <tr style=\"text-align: right;\">\n",
              "      <th></th>\n",
              "      <th>verified_reviews</th>\n",
              "      <th>sentiment</th>\n",
              "    </tr>\n",
              "  </thead>\n",
              "  <tbody>\n",
              "    <tr>\n",
              "      <th>0</th>\n",
              "      <td>love echo!</td>\n",
              "      <td>1</td>\n",
              "    </tr>\n",
              "    <tr>\n",
              "      <th>1</th>\n",
              "      <td>love it!</td>\n",
              "      <td>1</td>\n",
              "    </tr>\n",
              "    <tr>\n",
              "      <th>2</th>\n",
              "      <td>sometimes playing game, answer question correc...</td>\n",
              "      <td>1</td>\n",
              "    </tr>\n",
              "    <tr>\n",
              "      <th>3</th>\n",
              "      <td>ha lot fun thing. 4 yr ol learns inosaurs, con...</td>\n",
              "      <td>1</td>\n",
              "    </tr>\n",
              "    <tr>\n",
              "      <th>4</th>\n",
              "      <td>music</td>\n",
              "      <td>1</td>\n",
              "    </tr>\n",
              "    <tr>\n",
              "      <th>5</th>\n",
              "      <td>receive echo gift. neee another bluetooth some...</td>\n",
              "      <td>1</td>\n",
              "    </tr>\n",
              "    <tr>\n",
              "      <th>6</th>\n",
              "      <td>without cellphone, cannot use many features. i...</td>\n",
              "      <td>0</td>\n",
              "    </tr>\n",
              "    <tr>\n",
              "      <th>7</th>\n",
              "      <td>think 5th one i've purchase. i'm working getti...</td>\n",
              "      <td>1</td>\n",
              "    </tr>\n",
              "    <tr>\n",
              "      <th>8</th>\n",
              "      <td>look great</td>\n",
              "      <td>1</td>\n",
              "    </tr>\n",
              "    <tr>\n",
              "      <th>9</th>\n",
              "      <td>love it! i’ve listene song haven’t hear since ...</td>\n",
              "      <td>1</td>\n",
              "    </tr>\n",
              "  </tbody>\n",
              "</table>\n",
              "</div>"
            ],
            "text/plain": [
              "                                    verified_reviews  sentiment\n",
              "0                                         love echo!          1\n",
              "1                                           love it!          1\n",
              "2  sometimes playing game, answer question correc...          1\n",
              "3  ha lot fun thing. 4 yr ol learns inosaurs, con...          1\n",
              "4                                              music          1\n",
              "5  receive echo gift. neee another bluetooth some...          1\n",
              "6  without cellphone, cannot use many features. i...          0\n",
              "7  think 5th one i've purchase. i'm working getti...          1\n",
              "8                                         look great          1\n",
              "9  love it! i’ve listene song haven’t hear since ...          1"
            ]
          },
          "execution_count": 12,
          "metadata": {},
          "output_type": "execute_result"
        }
      ],
      "source": [
        "data_v1.head(10)"
      ]
    },
    {
      "cell_type": "code",
      "execution_count": null,
      "id": "7d049248",
      "metadata": {
        "id": "7d049248",
        "outputId": "27ed1bb7-c64b-48d9-bb18-a8a9947c79ef"
      },
      "outputs": [
        {
          "data": {
            "text/plain": [
              "array([[  0,   0,   0, ...,   0,   1,   2],\n",
              "       [  0,   0,   0, ...,   0,   0,   5],\n",
              "       [  0,   0,   0, ..., 263, 276,  24],\n",
              "       ...,\n",
              "       [  0,   0,   0, ...,  89, 326,  32],\n",
              "       [  0,   0,   0, ..., 217,  58, 290],\n",
              "       [  0,   0,   0, ...,   0,   0,   0]], dtype=int32)"
            ]
          },
          "execution_count": 14,
          "metadata": {},
          "output_type": "execute_result"
        }
      ],
      "source": [
        "tokenizer = Tokenizer(num_words=500, split=' ')\n",
        "tokenizer.fit_on_texts(data_v1['verified_reviews'].values)\n",
        "X = tokenizer.texts_to_sequences(data['verified_reviews'].values)\n",
        "X = pad_sequences(X)\n",
        "X"
      ]
    },
    {
      "cell_type": "code",
      "execution_count": null,
      "id": "b93531f2",
      "metadata": {
        "id": "b93531f2",
        "outputId": "f8284834-4948-41d5-dca8-f962f25a31c6"
      },
      "outputs": [
        {
          "name": "stdout",
          "output_type": "stream",
          "text": [
            "Model: \"sequential\"\n",
            "_________________________________________________________________\n",
            "Layer (type)                 Output Shape              Param #   \n",
            "=================================================================\n",
            "embedding (Embedding)        (None, 319, 120)          60000     \n",
            "_________________________________________________________________\n",
            "spatial_dropout1d (SpatialDr (None, 319, 120)          0         \n",
            "_________________________________________________________________\n",
            "lstm (LSTM)                  (None, 176)               209088    \n",
            "_________________________________________________________________\n",
            "dense (Dense)                (None, 2)                 354       \n",
            "=================================================================\n",
            "Total params: 269,442\n",
            "Trainable params: 269,442\n",
            "Non-trainable params: 0\n",
            "_________________________________________________________________\n",
            "None\n"
          ]
        }
      ],
      "source": [
        "model = Sequential()\n",
        "model.add(Embedding(500, 120, input_length = X.shape[1]))\n",
        "model.add(SpatialDropout1D(0.4))\n",
        "model.add(LSTM(176, dropout=0.2, recurrent_dropout=0.2))\n",
        "model.add(Dense(2,activation='softmax'))\n",
        "model.compile(loss = 'categorical_crossentropy', optimizer='adam', metrics = ['accuracy'])\n",
        "print(model.summary())"
      ]
    },
    {
      "cell_type": "code",
      "execution_count": null,
      "id": "7d3ba7f0",
      "metadata": {
        "id": "7d3ba7f0"
      },
      "outputs": [],
      "source": [
        "#Splitting the data into training and testing\n",
        "y=pd.get_dummies(data_v1['sentiment'])\n",
        "X_train, X_test, y_train, y_test = train_test_split(X,y, test_size = 0.3, random_state = 42)"
      ]
    },
    {
      "cell_type": "code",
      "execution_count": null,
      "id": "46f2846e",
      "metadata": {
        "id": "46f2846e"
      },
      "outputs": [],
      "source": [
        "X_train = np.array(X_train)\n",
        "X_test = np.array(X_test)\n",
        "y_train = np.array(y_train)\n",
        "y_test = np.array(y_test)"
      ]
    },
    {
      "cell_type": "code",
      "execution_count": null,
      "id": "45c291f1",
      "metadata": {
        "id": "45c291f1",
        "outputId": "f23c8822-b69a-48be-9e52-921ebf82cf43"
      },
      "outputs": [
        {
          "name": "stdout",
          "output_type": "stream",
          "text": [
            "69/69 [==============================] - 73s 707ms/step - loss: 0.4680 - accuracy: 0.8418\n"
          ]
        },
        {
          "data": {
            "text/plain": [
              "<keras.callbacks.History at 0x7f5d91808430>"
            ]
          },
          "execution_count": 19,
          "metadata": {},
          "output_type": "execute_result"
        }
      ],
      "source": [
        "batch_size=32\n",
        "model.fit(X_train, y_train, epochs = 1, batch_size=batch_size, verbose = 1)"
      ]
    },
    {
      "cell_type": "code",
      "execution_count": null,
      "id": "858f2aa0",
      "metadata": {
        "id": "858f2aa0",
        "outputId": "e95c3bc9-a110-47f4-84f5-a523fd0ccb79"
      },
      "outputs": [
        {
          "name": "stdout",
          "output_type": "stream",
          "text": [
            "30/30 [==============================] - 4s 86ms/step - loss: 0.3708 - accuracy: 0.8571\n"
          ]
        },
        {
          "data": {
            "text/plain": [
              "[0.3708193302154541, 0.8571428656578064]"
            ]
          },
          "execution_count": 20,
          "metadata": {},
          "output_type": "execute_result"
        }
      ],
      "source": [
        "model.evaluate(X_test,y_test)"
      ]
    }
  ],
  "metadata": {
    "kernelspec": {
      "display_name": "Python 3",
      "language": "python",
      "name": "python3"
    },
    "language_info": {
      "codemirror_mode": {
        "name": "ipython",
        "version": 3
      },
      "file_extension": ".py",
      "mimetype": "text/x-python",
      "name": "python",
      "nbconvert_exporter": "python",
      "pygments_lexer": "ipython3",
      "version": "3.8.8"
    },
    "colab": {
      "provenance": [],
      "include_colab_link": true
    }
  },
  "nbformat": 4,
  "nbformat_minor": 5
}