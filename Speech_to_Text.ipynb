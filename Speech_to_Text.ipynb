{
  "cells": [
    {
      "cell_type": "markdown",
      "metadata": {
        "id": "view-in-github",
        "colab_type": "text"
      },
      "source": [
        "<a href=\"https://colab.research.google.com/github/pratikshaa12/DL-dt/blob/main/Speech_to_Text.ipynb\" target=\"_parent\"><img src=\"https://colab.research.google.com/assets/colab-badge.svg\" alt=\"Open In Colab\"/></a>"
      ]
    },
    {
      "cell_type": "code",
      "execution_count": 1,
      "id": "e7e066e7",
      "metadata": {
        "colab": {
          "base_uri": "https://localhost:8080/"
        },
        "id": "e7e066e7",
        "outputId": "5e96c0f3-6cff-4cb9-f6ce-39123e4bcf22"
      },
      "outputs": [
        {
          "output_type": "stream",
          "name": "stdout",
          "text": [
            "Collecting SpeechRecognition\n",
            "  Downloading SpeechRecognition-3.14.1-py3-none-any.whl.metadata (31 kB)\n",
            "Collecting pydub\n",
            "  Downloading pydub-0.25.1-py2.py3-none-any.whl.metadata (1.4 kB)\n",
            "Requirement already satisfied: typing-extensions in /usr/local/lib/python3.11/dist-packages (from SpeechRecognition) (4.12.2)\n",
            "Downloading SpeechRecognition-3.14.1-py3-none-any.whl (32.9 MB)\n",
            "\u001b[2K   \u001b[90m━━━━━━━━━━━━━━━━━━━━━━━━━━━━━━━━━━━━━━━━\u001b[0m \u001b[32m32.9/32.9 MB\u001b[0m \u001b[31m16.5 MB/s\u001b[0m eta \u001b[36m0:00:00\u001b[0m\n",
            "\u001b[?25hDownloading pydub-0.25.1-py2.py3-none-any.whl (32 kB)\n",
            "Installing collected packages: pydub, SpeechRecognition\n",
            "Successfully installed SpeechRecognition-3.14.1 pydub-0.25.1\n"
          ]
        }
      ],
      "source": [
        "!pip3 install SpeechRecognition pydub"
      ]
    },
    {
      "cell_type": "code",
      "execution_count": 2,
      "id": "0291f7d4",
      "metadata": {
        "id": "0291f7d4"
      },
      "outputs": [],
      "source": [
        "import speech_recognition as sr"
      ]
    },
    {
      "cell_type": "code",
      "execution_count": null,
      "id": "52fc9299",
      "metadata": {
        "id": "52fc9299"
      },
      "outputs": [],
      "source": [
        "filename = \"audio123.wav\""
      ]
    },
    {
      "cell_type": "code",
      "execution_count": null,
      "id": "00897556",
      "metadata": {
        "id": "00897556"
      },
      "outputs": [],
      "source": [
        "# initialize the recognizer\n",
        "r = sr.Recognizer()"
      ]
    },
    {
      "cell_type": "code",
      "execution_count": null,
      "id": "940efaf8",
      "metadata": {
        "id": "940efaf8",
        "outputId": "e9a6a008-9ae0-4692-bf51-e63e9f3c1bbe"
      },
      "outputs": [
        {
          "name": "stdout",
          "output_type": "stream",
          "text": [
            "hi good evening everyone today a to speak about artificial intelligence branch of computer science that develops machines and software with human like intelligence artificial intelligence is the ability of the computer program aur machine to think and it is also a field of study which tries to make computer smart they work on their own without being in contact with commands John mccarthy was came up with name artificial intelligence in 1955 in general use the term artificial intelligence means a machine which mimics human cognition at least some of the things we associate with the other mind such as learning problem solving can be done by computers the not in the same way as a way to address capital and Michael Henry define as the system's ability to correctly interrupt external data to learn from such that Tata and to use the learning to achieve specific goal and staff through flexible and an ideal intelligent machine is a flexible edit agent which receives its environment and take action to maximize its chance of success at some cool as muscles become increasing the capable mental facilities one-third to require intelligence or removed from the definition for example optical character recognition is no longer perceived as an example of at artificial intelligence it is just a routine Technology at present we used the term for successful in understanding human speed can tempting at high level in strategy game system self driving Cars interpreting Complex data some people also consider a as a danger to humanity if it is called used to progress at its current affairs and extreme goal of their research is to create computer programs that can learn solve problem think logically in practice however most applications have big on problem with computers can do well searching databases and doing calculations are things computer do better than people on the other hand receiving its environment in any real sense is way beyond present day computing involves many different fields of Computer Science Mathematics linguistics and psychology and neuroscience and philosophy eventually research effort to create a General artificial intelligence which can solve many problems instead of focusing on what on just one researchers are also trying to create creative and emotional AI which can possibly empathise and creator many approaches and tools have in tri borrowing from the management literature\n"
          ]
        }
      ],
      "source": [
        "# open the file\n",
        "with sr.AudioFile(filename) as source:\n",
        "    # listen for the data (load audio to memory)\n",
        "    audio_data = r.record(source)\n",
        "    # recognize (convert from speech to text)\n",
        "    text = r.recognize_google(audio_data)\n",
        "    print(text)"
      ]
    },
    {
      "cell_type": "code",
      "execution_count": 3,
      "id": "0769d03a",
      "metadata": {
        "id": "0769d03a"
      },
      "outputs": [],
      "source": [
        "# importing libraries\n",
        "import speech_recognition as sr\n",
        "import os\n",
        "from pydub import AudioSegment\n",
        "from pydub.silence import split_on_silence\n",
        "\n",
        "# create a speech recognition object\n",
        "r = sr.Recognizer()\n",
        "\n",
        "# a function that splits the audio file into chunks\n",
        "# and applies speech recognition\n",
        "def get_large_audio_transcription(path):\n",
        "    \"\"\"\n",
        "    Splitting the large audio file into chunks\n",
        "    and apply speech recognition on each of these chunks\n",
        "    \"\"\"\n",
        "    # open the audio file using pydub\n",
        "    sound = AudioSegment.from_wav(path)\n",
        "    # split audio sound where silence is 700 miliseconds or more and get chunks\n",
        "    chunks = split_on_silence(sound,\n",
        "        # experiment with this value for your target audio file\n",
        "        min_silence_len = 500,\n",
        "        # adjust this per requirement\n",
        "        silence_thresh = sound.dBFS-14,\n",
        "        # keep the silence for 1 second, adjustable as well\n",
        "        keep_silence=500,\n",
        "    )\n",
        "    folder_name = \"audio-chunks\"\n",
        "    # create a directory to store the audio chunks\n",
        "    if not os.path.isdir(folder_name):\n",
        "        os.mkdir(folder_name)\n",
        "    whole_text = \"\"\n",
        "    # process each chunk\n",
        "    for i, audio_chunk in enumerate(chunks, start=1):\n",
        "        # export audio chunk and save it in\n",
        "        # the `folder_name` directory.\n",
        "        chunk_filename = os.path.join(folder_name, f\"chunk{i}.wav\")\n",
        "        audio_chunk.export(chunk_filename, format=\"wav\")\n",
        "        # recognize the chunk\n",
        "        with sr.AudioFile(chunk_filename) as source:\n",
        "            audio_listened = r.record(source)\n",
        "            # try converting it to text\n",
        "            try:\n",
        "                text = r.recognize_google(audio_listened)\n",
        "            except sr.UnknownValueError as e:\n",
        "                print(\"Error:\", str(e))\n",
        "            else:\n",
        "                text = f\"{text.capitalize()}. \"\n",
        "                print(chunk_filename, \":\", text)\n",
        "                whole_text += text\n",
        "    # return the text for all chunks detected\n",
        "    return whole_text"
      ]
    },
    {
      "cell_type": "code",
      "execution_count": 4,
      "id": "6769dbd5",
      "metadata": {
        "colab": {
          "base_uri": "https://localhost:8080/"
        },
        "id": "6769dbd5",
        "outputId": "bf45cb29-b03f-41c0-ef09-a1fc9dd728ee"
      },
      "outputs": [
        {
          "output_type": "stream",
          "name": "stdout",
          "text": [
            "audio-chunks/chunk1.wav : Chapter 1 of the ice queen. \n",
            "audio-chunks/chunk2.wav : This is a librivox recording. \n",
            "audio-chunks/chunk3.wav : All librivox recordings are in the public domain. \n",
            "audio-chunks/chunk4.wav : For more information or to volunteer. \n",
            "audio-chunks/chunk5.wav : Please visit librivox.org. \n",
            "audio-chunks/chunk6.wav : Read by larry wilson. \n",
            "audio-chunks/chunk7.wav : The ice queen by ernest angers. \n",
            "audio-chunks/chunk8.wav : Thrown upon their own resources. \n",
            "audio-chunks/chunk9.wav : The early dusk of a december day. \n",
            "audio-chunks/chunk10.wav : What's fast changing into darkness has three of the young people with whose adventures this story is concerned. \n",
            "audio-chunks/chunk11.wav : Trudge to briskly home. \n",
            "audio-chunks/chunk12.wav : The day was a bright. \n",
            "audio-chunks/chunk13.wav : And alec the oldest. \n",
            "audio-chunks/chunk14.wav : Who was a skilled workmen in the brass foundry. \n",
            "audio-chunks/chunk15.wav : Although scarcely 18 years of age. \n",
            "audio-chunks/chunk16.wav : Had given himself a half holiday. \n",
            "audio-chunks/chunk17.wav : In order to take kate and the youngster on a long skating expedition down to the lighthouse. \n",
            "audio-chunks/chunk18.wav : Kate was his sister 2 years younger than he. \n",
            "audio-chunks/chunk19.wav : At the youngster was a brother who's 12th birthday this was. \n",
            "audio-chunks/chunk20.wav : The little fellow never had had so much fun and one afternoon he thought. \n",
            "audio-chunks/chunk21.wav : And maintain steadily that he scarcely felt tired at all. \n",
            "audio-chunks/chunk22.wav : The ice has been in splendid condition. \n",
            "audio-chunks/chunk23.wav : The day calm but cloud. \n",
            "audio-chunks/chunk24.wav : So that their eyes had not. \n",
            "audio-chunks/chunk25.wav : Have they had been able to go far out upon the solidly frozen surface. \n",
            "audio-chunks/chunk26.wav : Of the. \n",
            "audio-chunks/chunk27.wav : How far do you think we have skated today al. \n",
            "audio-chunks/chunk28.wav : Ask the youngster. \n",
            "audio-chunks/chunk29.wav : Its 4 miles from the lower bridge to the lighthouse. \n",
            "audio-chunks/chunk30.wav : Spook up k. \n",
            "audio-chunks/chunk31.wav : Before alex could reply. \n",
            "audio-chunks/chunk32.wav : Add four back. \n",
            "audio-chunks/chunk33.wav : That makes 8 me to begin with. \n",
            "audio-chunks/chunk34.wav : Yes it said al. \n",
            "audio-chunks/chunk35.wav : And on top of that you must put. \n",
            "audio-chunks/chunk36.wav : Let me. \n",
            "audio-chunks/chunk37.wav : I should think counting all our twists and turns. \n",
            "audio-chunks/chunk38.wav : Fully 10 me more. \n",
            "audio-chunks/chunk39.wav : We were almost the best of stony point when we were farthest out. \n",
            "audio-chunks/chunk40.wav : And they say that's a 5 mi long. \n",
            "audio-chunks/chunk41.wav : All together then we skated about 18 mi. \n",
            "audio-chunks/chunk42.wav : Write my boy your arithmetic is your strong point. \n",
            "audio-chunks/chunk43.wav : Well. \n",
            "audio-chunks/chunk44.wav : I should say his feet were his strong point today. \n",
            "audio-chunks/chunk45.wav : Casey explained in admiration of her brother's hardihood. \n",
            "audio-chunks/chunk46.wav : It wasn't a bad day's work for a girl i know of either remarked alec has he took the key from his pocket and opened the door of their house. \n",
            "audio-chunks/chunk47.wav : Which was soon bright with lamp. \n",
            "audio-chunks/chunk48.wav : Add a crackling fire of oak and hickory. \n",
            "audio-chunks/chunk49.wav : The house these three dwelt in was a small cottage in an obscure street of the village. \n",
            "audio-chunks/chunk50.wav : But it was warm and tight. \n",
            "audio-chunks/chunk51.wav : Kate west housekeeper and the youngster whose real name was james. \n",
            "audio-chunks/chunk52.wav : Contractor first into gym and then into jim kim. \n",
            "audio-chunks/chunk53.wav : What's man of all. \n",
            "audio-chunks/chunk54.wav : Add me to call work to sometimes when kate needed his help. \n",
            "audio-chunks/chunk55.wav : While these two are getting tea and alec is carefully wiping the skates and putting them away where no rust can have a chance at the blades. \n",
            "audio-chunks/chunk56.wav : Or mice not the strap. \n",
            "audio-chunks/chunk57.wav : Let me tell you a few things about the family. \n",
            "audio-chunks/chunk58.wav : Jim could remember his father only vaguely. \n",
            "audio-chunks/chunk59.wav : Play kate and alex could tell us all about him. \n",
            "audio-chunks/chunk60.wav : His name was kincaid. \n",
            "audio-chunks/chunk61.wav : And he was a master builder of houses. \n",
            "audio-chunks/chunk62.wav : He had bought and fitted up the cottage. \n",
            "audio-chunks/chunk63.wav : And i put savings in the. \n",
            "audio-chunks/chunk64.wav : The mrs kincaid was sick much of the time. \n",
            "audio-chunks/chunk65.wav : So that money was spent that would have been laid by for a rainy day. \n",
            "audio-chunks/chunk66.wav : If she had been strong and well. \n",
            "audio-chunks/chunk67.wav : Unfortunately the rain came sooner than anyone thought for. \n",
            "audio-chunks/chunk68.wav : One day about 5 years before the beginning of our little story. \n",
            "audio-chunks/chunk69.wav : Papa was brought home hurt by falling from a scaffold at the top of the house. \n",
            "audio-chunks/chunk70.wav : He was not dead. \n",
            "audio-chunks/chunk71.wav : And i thought he would be well again in a few weeks at most. \n",
            "audio-chunks/chunk72.wav : But instead he grew slowly. \n",
            "audio-chunks/chunk73.wav : And after a time died. \n",
            "audio-chunks/chunk74.wav : Then the poor mother always we. \n",
            "audio-chunks/chunk75.wav : Did the best she could. \n",
            "audio-chunks/chunk76.wav : I keep trying to help her while alex stopped his school going. \n",
            "audio-chunks/chunk77.wav : I went to work in the brass foundry. \n",
            "audio-chunks/chunk78.wav : At first though he could earn but a little. \n",
            "audio-chunks/chunk79.wav : Add mr kincaid's saving slowly melted away. \n",
            "audio-chunks/chunk80.wav : Until almost nothing was left. \n",
            "audio-chunks/chunk81.wav : Then the tired and doesn't mother never strong bet your children that long farewell that seems so terribly hopeless to all of us. \n",
            "audio-chunks/chunk82.wav : When we are young. \n",
            "audio-chunks/chunk83.wav : Who are the three little bears were thrown upon their own resources. \n",
            "audio-chunks/chunk84.wav : The question arose as to what they should do. \n",
            "audio-chunks/chunk85.wav : Jim was now 8 years old and going to school. \n",
            "audio-chunks/chunk86.wav : Kate has not neglected to do some studying. \n",
            "audio-chunks/chunk87.wav : And a great deal of reading too. \n",
            "audio-chunks/chunk88.wav : Though she had always been so busy. \n",
            "audio-chunks/chunk89.wav : And a few weeks before her mother's death. \n",
            "audio-chunks/chunk90.wav : She had begun to study regularly with a lady who lived near. \n",
            "audio-chunks/chunk91.wav : Open katy repaid by picky various small fruit. \n",
            "audio-chunks/chunk92.wav : As the matured in the ladies large garden. \n",
            "audio-chunks/chunk93.wav : Alec as i have said. \n",
            "audio-chunks/chunk94.wav : Was working steadily and getting enough wages to keep them all in fair comfort. \n",
            "audio-chunks/chunk95.wav : Since they own the house in the left garden to give them plenty of vegetables. \n",
            "audio-chunks/chunk96.wav : So after talking the prospect over. \n",
            "audio-chunks/chunk97.wav : Did you decided to stay in the little house and live together. \n",
            "audio-chunks/chunk98.wav : A letter was written to uncle andrew in cleveland. \n",
            "audio-chunks/chunk99.wav : Who had offered kate and jimmy a home. \n",
            "audio-chunks/chunk100.wav : Telling him they would try it alone a while before burning any of their friends. \n",
            "audio-chunks/chunk101.wav : This decision had been made almost 4 years before my story open. \n",
            "audio-chunks/chunk102.wav : And it had not been regretted. \n",
            "audio-chunks/chunk103.wav : They had even saved somebody. \n",
            "audio-chunks/chunk104.wav : Put the larger part of this has been spent in repairing the house. \n",
            "audio-chunks/chunk105.wav : And then fitting up a new boat for jim and one of his friends. \n",
            "audio-chunks/chunk106.wav : Who thought they knew a way to make a little money in the summer vacation if they had a good boat. \n",
            "audio-chunks/chunk107.wav : This boat had been completed only in time to prove how good it was. \n",
            "audio-chunks/chunk108.wav : Before the winter had closed the river with ice at an unusually early date. \n",
            "audio-chunks/chunk109.wav : Another pretty crap was safely stored in a warehouse at the schooner landing a mile below the town. \n",
            "audio-chunks/chunk110.wav : All slept very sadly after their skating holiday. \n",
            "audio-chunks/chunk111.wav : Even rex the great newfoundland dog. \n",
            "audio-chunks/chunk112.wav : Who was the member of the family by no means to be over. \n",
            "audio-chunks/chunk113.wav : But their ears were not stopped so tight that the klinger of the church bells about midnight. \n",
            "audio-chunks/chunk114.wav : Failed to arouse him with his dreadful alarm of fire. \n",
            "audio-chunks/chunk115.wav : Listening to an upper window one glance at the blaze red in heaven. \n",
            "audio-chunks/chunk116.wav : Showed our friends that the group of factories in the southern part of the town. \n",
            "audio-chunks/chunk117.wav : Was byrne. \n",
            "audio-chunks/chunk118.wav : And one of these was the brass foundry where alec worked. \n",
            "audio-chunks/chunk119.wav : I like hurried away and they did not see him until after sunrise. \n",
            "audio-chunks/chunk120.wav : When he came home tired. \n",
            "audio-chunks/chunk121.wav : And set blacken. \n",
            "audio-chunks/chunk122.wav : The whole shop had burned to the ground he reported. \n",
            "audio-chunks/chunk123.wav : And it was only by great risk and exertion that he had been able to rescue his father's precious. \n",
            "audio-chunks/chunk124.wav : Chest of tools. \n",
            "audio-chunks/chunk125.wav : I didn't think said the young man as he sat weirdly down to katie's hot coffee. \n",
            "audio-chunks/chunk126.wav : That my job would be so short when mcabee told me yesterday i could work there as long as the foundry last. \n",
            "audio-chunks/chunk127.wav : During that day in the next. \n",
            "audio-chunks/chunk128.wav : Alec tried every possible chance of employment in the village. \n",
            "audio-chunks/chunk129.wav : But found nothing and by the time evening came he had made up his mind that no regular employment equal to his old place was to be had there for months to come. \n",
            "audio-chunks/chunk130.wav : There is no doubt about. \n",
            "audio-chunks/chunk131.wav : The time had arrived when they must avail themselves of uncle andrew's kind. \n",
            "audio-chunks/chunk132.wav : And seeking his hospitable house at least a temporary home. \n",
            "audio-chunks/chunk133.wav : End of chapter 1. \n",
            "\n",
            "Full text: Chapter 1 of the ice queen. This is a librivox recording. All librivox recordings are in the public domain. For more information or to volunteer. Please visit librivox.org. Read by larry wilson. The ice queen by ernest angers. Thrown upon their own resources. The early dusk of a december day. What's fast changing into darkness has three of the young people with whose adventures this story is concerned. Trudge to briskly home. The day was a bright. And alec the oldest. Who was a skilled workmen in the brass foundry. Although scarcely 18 years of age. Had given himself a half holiday. In order to take kate and the youngster on a long skating expedition down to the lighthouse. Kate was his sister 2 years younger than he. At the youngster was a brother who's 12th birthday this was. The little fellow never had had so much fun and one afternoon he thought. And maintain steadily that he scarcely felt tired at all. The ice has been in splendid condition. The day calm but cloud. So that their eyes had not. Have they had been able to go far out upon the solidly frozen surface. Of the. How far do you think we have skated today al. Ask the youngster. Its 4 miles from the lower bridge to the lighthouse. Spook up k. Before alex could reply. Add four back. That makes 8 me to begin with. Yes it said al. And on top of that you must put. Let me. I should think counting all our twists and turns. Fully 10 me more. We were almost the best of stony point when we were farthest out. And they say that's a 5 mi long. All together then we skated about 18 mi. Write my boy your arithmetic is your strong point. Well. I should say his feet were his strong point today. Casey explained in admiration of her brother's hardihood. It wasn't a bad day's work for a girl i know of either remarked alec has he took the key from his pocket and opened the door of their house. Which was soon bright with lamp. Add a crackling fire of oak and hickory. The house these three dwelt in was a small cottage in an obscure street of the village. But it was warm and tight. Kate west housekeeper and the youngster whose real name was james. Contractor first into gym and then into jim kim. What's man of all. Add me to call work to sometimes when kate needed his help. While these two are getting tea and alec is carefully wiping the skates and putting them away where no rust can have a chance at the blades. Or mice not the strap. Let me tell you a few things about the family. Jim could remember his father only vaguely. Play kate and alex could tell us all about him. His name was kincaid. And he was a master builder of houses. He had bought and fitted up the cottage. And i put savings in the. The mrs kincaid was sick much of the time. So that money was spent that would have been laid by for a rainy day. If she had been strong and well. Unfortunately the rain came sooner than anyone thought for. One day about 5 years before the beginning of our little story. Papa was brought home hurt by falling from a scaffold at the top of the house. He was not dead. And i thought he would be well again in a few weeks at most. But instead he grew slowly. And after a time died. Then the poor mother always we. Did the best she could. I keep trying to help her while alex stopped his school going. I went to work in the brass foundry. At first though he could earn but a little. Add mr kincaid's saving slowly melted away. Until almost nothing was left. Then the tired and doesn't mother never strong bet your children that long farewell that seems so terribly hopeless to all of us. When we are young. Who are the three little bears were thrown upon their own resources. The question arose as to what they should do. Jim was now 8 years old and going to school. Kate has not neglected to do some studying. And a great deal of reading too. Though she had always been so busy. And a few weeks before her mother's death. She had begun to study regularly with a lady who lived near. Open katy repaid by picky various small fruit. As the matured in the ladies large garden. Alec as i have said. Was working steadily and getting enough wages to keep them all in fair comfort. Since they own the house in the left garden to give them plenty of vegetables. So after talking the prospect over. Did you decided to stay in the little house and live together. A letter was written to uncle andrew in cleveland. Who had offered kate and jimmy a home. Telling him they would try it alone a while before burning any of their friends. This decision had been made almost 4 years before my story open. And it had not been regretted. They had even saved somebody. Put the larger part of this has been spent in repairing the house. And then fitting up a new boat for jim and one of his friends. Who thought they knew a way to make a little money in the summer vacation if they had a good boat. This boat had been completed only in time to prove how good it was. Before the winter had closed the river with ice at an unusually early date. Another pretty crap was safely stored in a warehouse at the schooner landing a mile below the town. All slept very sadly after their skating holiday. Even rex the great newfoundland dog. Who was the member of the family by no means to be over. But their ears were not stopped so tight that the klinger of the church bells about midnight. Failed to arouse him with his dreadful alarm of fire. Listening to an upper window one glance at the blaze red in heaven. Showed our friends that the group of factories in the southern part of the town. Was byrne. And one of these was the brass foundry where alec worked. I like hurried away and they did not see him until after sunrise. When he came home tired. And set blacken. The whole shop had burned to the ground he reported. And it was only by great risk and exertion that he had been able to rescue his father's precious. Chest of tools. I didn't think said the young man as he sat weirdly down to katie's hot coffee. That my job would be so short when mcabee told me yesterday i could work there as long as the foundry last. During that day in the next. Alec tried every possible chance of employment in the village. But found nothing and by the time evening came he had made up his mind that no regular employment equal to his old place was to be had there for months to come. There is no doubt about. The time had arrived when they must avail themselves of uncle andrew's kind. And seeking his hospitable house at least a temporary home. End of chapter 1. \n"
          ]
        }
      ],
      "source": [
        "path = \"/content/audios_icequeen_chapter_1.wav\"\n",
        "print(\"\\nFull text:\", get_large_audio_transcription(path))"
      ]
    },
    {
      "cell_type": "code",
      "execution_count": null,
      "id": "8fbe14be",
      "metadata": {
        "id": "8fbe14be"
      },
      "outputs": [],
      "source": []
    }
  ],
  "metadata": {
    "kernelspec": {
      "display_name": "Python 3",
      "language": "python",
      "name": "python3"
    },
    "language_info": {
      "codemirror_mode": {
        "name": "ipython",
        "version": 3
      },
      "file_extension": ".py",
      "mimetype": "text/x-python",
      "name": "python",
      "nbconvert_exporter": "python",
      "pygments_lexer": "ipython3",
      "version": "3.8.8"
    },
    "colab": {
      "provenance": [],
      "include_colab_link": true
    }
  },
  "nbformat": 4,
  "nbformat_minor": 5
}